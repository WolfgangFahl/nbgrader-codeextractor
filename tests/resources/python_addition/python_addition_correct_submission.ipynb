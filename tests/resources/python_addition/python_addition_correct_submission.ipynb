{
 "cells": [
  {
   "cell_type": "markdown",
   "id": "93850a90-8706-4ecb-8339-7a44e1befcd6",
   "metadata": {},
   "source": [
    "# Python Addition Test\n",
    "Simple nbgrader assignment to test code cell extraction"
   ]
  },
  {
   "cell_type": "markdown",
   "id": "ca9c3770-61fe-4f68-9589-e160a533882c",
   "metadata": {},
   "source": [
    "## Exersise \n",
    "add the two variables `x` and `y` and save their sum in the variable `z`"
   ]
  },
  {
   "cell_type": "code",
   "execution_count": null,
   "id": "e2d83191-805e-4049-984a-af12d9f04d22",
   "metadata": {
    "deletable": false,
    "nbgrader": {
     "cell_type": "code",
     "checksum": "c67964b5ec4ad1f162accb874c0a56f3",
     "grade": false,
     "grade_id": "cell-9fb6fe3588ec4909",
     "locked": false,
     "schema_version": 3,
     "solution": true,
     "task": false
    },
    "tags": []
   },
   "outputs": [],
   "source": [
    "x = 3\n",
    "y = 7\n",
    "# YOUR CODE HERE\n",
    "z = x + y"
   ]
  },
  {
   "cell_type": "code",
   "execution_count": null,
   "id": "45974d03-58e0-42b6-941a-25aef37fc8f5",
   "metadata": {
    "deletable": false,
    "editable": false,
    "nbgrader": {
     "cell_type": "code",
     "checksum": "32907e78e874ccf89bff7231b26055cd",
     "grade": true,
     "grade_id": "cell-744e5dbe470759ae",
     "locked": true,
     "points": 1,
     "schema_version": 3,
     "solution": false,
     "task": false
    },
    "tags": []
   },
   "outputs": [],
   "source": []
  },
  {
   "cell_type": "code",
   "execution_count": null,
   "id": "2505e22d-543e-46f2-a9f6-33ab54d290e3",
   "metadata": {},
   "outputs": [],
   "source": []
  }
 ],
 "metadata": {
  "kernelspec": {
   "display_name": "Python 3 (ipykernel)",
   "language": "python",
   "name": "python3"
  },
  "language_info": {
   "codemirror_mode": {
    "name": "ipython",
    "version": 3
   },
   "file_extension": ".py",
   "mimetype": "text/x-python",
   "name": "python",
   "nbconvert_exporter": "python",
   "pygments_lexer": "ipython3",
   "version": "3.9.13"
  }
 },
 "nbformat": 4,
 "nbformat_minor": 5
}
