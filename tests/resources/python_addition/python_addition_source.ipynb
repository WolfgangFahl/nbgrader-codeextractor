{
 "cells": [
  {
   "cell_type": "markdown",
   "id": "93850a90-8706-4ecb-8339-7a44e1befcd6",
   "metadata": {},
   "source": [
    "# Python Addition Test\n",
    "Simple nbgrader assignment to test code cell extraction"
   ]
  },
  {
   "cell_type": "markdown",
   "id": "ca9c3770-61fe-4f68-9589-e160a533882c",
   "metadata": {},
   "source": [
    "## Exercise \n",
    "add the two variables `x` and `y` and save their sum in the variable `z`"
   ]
  },
  {
   "cell_type": "code",
   "execution_count": 2,
   "id": "e2d83191-805e-4049-984a-af12d9f04d22",
   "metadata": {
    "nbgrader": {
     "grade": false,
     "grade_id": "cell-9fb6fe3588ec4909",
     "locked": false,
     "schema_version": 3,
     "solution": true,
     "task": false
    },
    "tags": []
   },
   "outputs": [],
   "source": [
    "x = 3\n",
    "y = 7\n",
    "### BEGIN SOLUTION\n",
    "z = x + y\n",
    "### END SOLUTION"
   ]
  },
  {
   "cell_type": "code",
   "execution_count": 3,
   "id": "45974d03-58e0-42b6-941a-25aef37fc8f5",
   "metadata": {
    "nbgrader": {
     "grade": true,
     "grade_id": "cell-744e5dbe470759ae",
     "locked": true,
     "points": 1,
     "schema_version": 3,
     "solution": false,
     "task": false
    },
    "tags": []
   },
   "outputs": [],
   "source": [
    "### BEGIN HIDDEN TESTS\n",
    "assert z == 10\n",
    "### END HIDDEN TESTS"
   ]
  },
  {
   "cell_type": "code",
   "execution_count": null,
   "id": "2505e22d-543e-46f2-a9f6-33ab54d290e3",
   "metadata": {},
   "outputs": [],
   "source": []
  }
 ],
 "metadata": {
  "kernelspec": {
   "display_name": "Python 3 (ipykernel)",
   "language": "python",
   "name": "python3"
  },
  "language_info": {
   "codemirror_mode": {
    "name": "ipython",
    "version": 3
   },
   "file_extension": ".py",
   "mimetype": "text/x-python",
   "name": "python",
   "nbconvert_exporter": "python",
   "pygments_lexer": "ipython3",
   "version": "3.9.13"
  }
 },
 "nbformat": 4,
 "nbformat_minor": 5
}
