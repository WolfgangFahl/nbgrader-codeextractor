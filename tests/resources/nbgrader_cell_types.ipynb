{
 "cells": [
  {
   "cell_type": "code",
   "execution_count": null,
   "id": "74b1185f-e7dc-416f-ad63-c0ddc601b2a5",
   "metadata": {},
   "outputs": [],
   "source": [
    "None"
   ]
  },
  {
   "cell_type": "code",
   "execution_count": null,
   "id": "b050bb45-df4e-4188-bd80-b2aaa798540d",
   "metadata": {
    "nbgrader": {
     "grade": true,
     "grade_id": "cell-018641c7e2f909ea",
     "locked": false,
     "points": 0,
     "schema_version": 3,
     "solution": true,
     "task": false
    },
    "tags": []
   },
   "outputs": [],
   "source": [
    "Manually graded answer"
   ]
  },
  {
   "cell_type": "code",
   "execution_count": null,
   "id": "34504669-a515-4d55-90c9-30198d2ddffd",
   "metadata": {
    "nbgrader": {
     "grade": false,
     "grade_id": "cell-12a28a8e08d7c476",
     "locked": true,
     "points": 0,
     "schema_version": 3,
     "solution": false,
     "task": true
    },
    "tags": []
   },
   "outputs": [],
   "source": [
    "Manually graded task"
   ]
  },
  {
   "cell_type": "code",
   "execution_count": null,
   "id": "a8f6c816-be2f-4907-9274-b0eb4ce755d7",
   "metadata": {
    "nbgrader": {
     "grade": false,
     "grade_id": "cell-e335437108149c66",
     "locked": false,
     "schema_version": 3,
     "solution": true,
     "task": false
    },
    "tags": []
   },
   "outputs": [],
   "source": [
    "Autograded answer"
   ]
  },
  {
   "cell_type": "code",
   "execution_count": null,
   "id": "da4f2af6-c2e0-4da7-b398-78220b87b3c9",
   "metadata": {
    "nbgrader": {
     "grade": true,
     "grade_id": "cell-ad0796f34b7a6c95",
     "locked": true,
     "points": 0,
     "schema_version": 3,
     "solution": false,
     "task": false
    },
    "tags": []
   },
   "outputs": [],
   "source": [
    "Autograded tests"
   ]
  },
  {
   "cell_type": "code",
   "execution_count": null,
   "id": "6944d5eb-e607-4a5a-8cf5-d39964a464f5",
   "metadata": {
    "nbgrader": {
     "grade": false,
     "grade_id": "cell-cf8f966a6f1d7559",
     "locked": true,
     "schema_version": 3,
     "solution": false,
     "task": false
    },
    "tags": []
   },
   "outputs": [],
   "source": [
    "Read-only"
   ]
  }
 ],
 "metadata": {
  "kernelspec": {
   "display_name": "Python 3 (ipykernel)",
   "language": "python",
   "name": "python3"
  },
  "language_info": {
   "codemirror_mode": {
    "name": "ipython",
    "version": 3
   },
   "file_extension": ".py",
   "mimetype": "text/x-python",
   "name": "python",
   "nbconvert_exporter": "python",
   "pygments_lexer": "ipython3",
   "version": "3.9.13"
  }
 },
 "nbformat": 4,
 "nbformat_minor": 5
}
